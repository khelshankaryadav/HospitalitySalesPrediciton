{
 "cells": [
  {
   "cell_type": "code",
   "execution_count": 1,
   "metadata": {},
   "outputs": [],
   "source": [
    "import numpy as np  # linear algebra\n",
    "import pandas as pd  # data processing, CSV file I/O (e.g. pd.read_csv)\n",
    "import seaborn as sns\n",
    "import matplotlib.pyplot as plt\n",
    "import xgboost as xgb\n",
    "from xgboost import plot_importance, plot_tree\n",
    "from sklearn.metrics import mean_squared_error, mean_absolute_error\n",
    "plt.style.use('fivethirtyeight')\n"
   ]
  },
  {
   "cell_type": "code",
   "execution_count": 2,
   "metadata": {},
   "outputs": [],
   "source": [
    "Dataset = pd.read_csv('Dataset.csv')\n"
   ]
  },
  {
   "cell_type": "code",
   "execution_count": 3,
   "metadata": {},
   "outputs": [],
   "source": [
    "Dataset['Date'] = pd.to_datetime(Dataset.Date, format=\"%d-%m-%Y\")\n"
   ]
  },
  {
   "cell_type": "code",
   "execution_count": 4,
   "metadata": {},
   "outputs": [
    {
     "data": {
      "text/html": [
       "<div>\n",
       "<style scoped>\n",
       "    .dataframe tbody tr th:only-of-type {\n",
       "        vertical-align: middle;\n",
       "    }\n",
       "\n",
       "    .dataframe tbody tr th {\n",
       "        vertical-align: top;\n",
       "    }\n",
       "\n",
       "    .dataframe thead th {\n",
       "        text-align: right;\n",
       "    }\n",
       "</style>\n",
       "<table border=\"1\" class=\"dataframe\">\n",
       "  <thead>\n",
       "    <tr style=\"text-align: right;\">\n",
       "      <th></th>\n",
       "      <th>Dine In Amount</th>\n",
       "    </tr>\n",
       "    <tr>\n",
       "      <th>Date</th>\n",
       "      <th></th>\n",
       "    </tr>\n",
       "  </thead>\n",
       "  <tbody>\n",
       "    <tr>\n",
       "      <th>2013-09-01</th>\n",
       "      <td>53722</td>\n",
       "    </tr>\n",
       "    <tr>\n",
       "      <th>2013-09-02</th>\n",
       "      <td>39137</td>\n",
       "    </tr>\n",
       "    <tr>\n",
       "      <th>2013-09-03</th>\n",
       "      <td>597</td>\n",
       "    </tr>\n",
       "    <tr>\n",
       "      <th>2013-09-04</th>\n",
       "      <td>0</td>\n",
       "    </tr>\n",
       "    <tr>\n",
       "      <th>2013-09-05</th>\n",
       "      <td>4999</td>\n",
       "    </tr>\n",
       "  </tbody>\n",
       "</table>\n",
       "</div>"
      ],
      "text/plain": [
       "            Dine In Amount\n",
       "Date                      \n",
       "2013-09-01           53722\n",
       "2013-09-02           39137\n",
       "2013-09-03             597\n",
       "2013-09-04               0\n",
       "2013-09-05            4999"
      ]
     },
     "execution_count": 4,
     "metadata": {},
     "output_type": "execute_result"
    }
   ],
   "source": [
    "Data_Dine = Dataset[['Date', 'Dine In Amount']]\n",
    "Data_Dine = Data_Dine.set_index('Date')\n",
    "Data_Dine.head()\n"
   ]
  },
  {
   "cell_type": "code",
   "execution_count": 5,
   "metadata": {},
   "outputs": [],
   "source": [
    "def create_features(df, label=None):\n",
    "    df['date'] = df.index\n",
    "    df['hour'] = df['date'].dt.hour\n",
    "    df['dayofweek'] = df['date'].dt.dayofweek\n",
    "    df['quarter'] = df['date'].dt.quarter\n",
    "    df['month'] = df['date'].dt.month\n",
    "    df['year'] = df['date'].dt.year\n",
    "    df['dayofyear'] = df['date'].dt.dayofyear\n",
    "    df['dayofmonth'] = df['date'].dt.day\n",
    "    df['weekofyear'] = df['date'].dt.weekofyear\n",
    "    X = df[['hour', 'dayofweek', 'quarter', 'month', 'year',\n",
    "           'dayofyear', 'dayofmonth', 'weekofyear']]\n",
    "    if label:\n",
    "        y = df[label]\n",
    "        return X, y\n",
    "    return X\n"
   ]
  },
  {
   "cell_type": "code",
   "execution_count": 6,
   "metadata": {},
   "outputs": [],
   "source": [
    "split_date_d = '01-Jan-2019'\n",
    "Data_Dine_Train = Data_Dine.loc[Data_Dine.index <= split_date_d].copy()\n",
    "Data_Dine_Test = Data_Dine.loc[Data_Dine.index > split_date_d].copy()\n"
   ]
  },
  {
   "cell_type": "code",
   "execution_count": 7,
   "metadata": {},
   "outputs": [
    {
     "name": "stderr",
     "output_type": "stream",
     "text": [
      "<ipython-input-5-7d898388bd09>:10: FutureWarning: Series.dt.weekofyear and Series.dt.week have been deprecated.  Please use Series.dt.isocalendar().week instead.\n",
      "  df['weekofyear'] = df['date'].dt.weekofyear\n"
     ]
    }
   ],
   "source": [
    "X_Train_D, Y_Train_D = create_features(Data_Dine_Train, label='Dine In Amount')\n",
    "X_Test_D, Y_Test_D = create_features(Data_Dine_Test, label='Dine In Amount')\n"
   ]
  },
  {
   "cell_type": "code",
   "execution_count": 8,
   "metadata": {},
   "outputs": [
    {
     "data": {
      "text/plain": [
       "XGBRegressor(base_score=0.5, booster='gbtree', colsample_bylevel=1,\n",
       "             colsample_bynode=1, colsample_bytree=1, enable_categorical=False,\n",
       "             gamma=0, gpu_id=-1, importance_type=None,\n",
       "             interaction_constraints='', learning_rate=0.300000012,\n",
       "             max_delta_step=0, max_depth=6, min_child_weight=1, missing=nan,\n",
       "             monotone_constraints='()', n_estimators=1000, n_jobs=8,\n",
       "             num_parallel_tree=1, predictor='auto', random_state=0, reg_alpha=0,\n",
       "             reg_lambda=1, scale_pos_weight=1, subsample=1, tree_method='exact',\n",
       "             validate_parameters=1, verbosity=None)"
      ]
     },
     "execution_count": 8,
     "metadata": {},
     "output_type": "execute_result"
    }
   ],
   "source": [
    "XGB_D = xgb.XGBRegressor(n_estimators=1000)\n",
    "XGB_D.fit(X_Train_D, Y_Train_D,\n",
    "          eval_set=[(X_Train_D, Y_Train_D), (X_Test_D, Y_Test_D)],\n",
    "          early_stopping_rounds=50,\n",
    "          verbose=False)\n"
   ]
  },
  {
   "cell_type": "code",
   "execution_count": 9,
   "metadata": {},
   "outputs": [
    {
     "data": {
      "text/plain": [
       "<AxesSubplot:title={'center':'Feature importance'}, xlabel='F score', ylabel='Features'>"
      ]
     },
     "execution_count": 9,
     "metadata": {},
     "output_type": "execute_result"
    },
    {
     "data": {
      "image/png": "[encoded data removed]",
      "text/plain": [
       "<Figure size 432x288 with 1 Axes>"
      ]
     },
     "metadata": {},
     "output_type": "display_data"
    }
   ],
   "source": [
    "plot_importance(XGB_D, height=0.9)\n"
   ]
  },
  {
   "cell_type": "code",
   "execution_count": 10,
   "metadata": {},
   "outputs": [],
   "source": [
    "Data_Dine_Test['Dine In Amount Prediction'] = XGB_D.predict(X_Test_D)\n",
    "Data_Dine_all = pd.concat([Data_Dine_Test, Data_Dine_Train], sort=False)\n"
   ]
  },
  {
   "cell_type": "code",
   "execution_count": 11,
   "metadata": {},
   "outputs": [
    {
     "data": {
      "text/plain": [
       "<AxesSubplot:xlabel='Date'>"
      ]
     },
     "execution_count": 11,
     "metadata": {},
     "output_type": "execute_result"
    },
    {
     "data": {
      "image/png": "[encoded data removed]",
      "text/plain": [
       "<Figure size 1080x360 with 1 Axes>"
      ]
     },
     "metadata": {},
     "output_type": "display_data"
    }
   ],
   "source": [
    "Data_Dine_all[['Dine In Amount', 'Dine In Amount Prediction']].plot(\n",
    "    figsize=(15, 5))\n"
   ]
  },
  {
   "cell_type": "code",
   "execution_count": 12,
   "metadata": {},
   "outputs": [
    {
     "data": {
      "image/png": "[encoded data removed]",
      "text/plain": [
       "<Figure size 1080x360 with 1 Axes>"
      ]
     },
     "metadata": {},
     "output_type": "display_data"
    }
   ],
   "source": [
    "f, ax = plt.subplots(1)\n",
    "f.set_figheight(5)\n",
    "f.set_figwidth(15)\n",
    "Data_Dine_all[['Dine In Amount Prediction', 'Dine In Amount']].plot(ax=ax,\n",
    "                                                                    style=['-', '-'])\n",
    "ax.set_xbound(lower='01-01-2019', upper='02-01-2019')\n",
    "ax.set_ylim(0, 60000)\n",
    "plot = plt.suptitle('January 2019 Forecast vs Actuals')\n"
   ]
  },
  {
   "cell_type": "code",
   "execution_count": 13,
   "metadata": {},
   "outputs": [
    {
     "data": {
      "text/plain": [
       "298274652.3731305"
      ]
     },
     "execution_count": 13,
     "metadata": {},
     "output_type": "execute_result"
    }
   ],
   "source": [
    "mean_squared_error(y_true=Data_Dine_Test['Dine In Amount'],\n",
    "                   y_pred=Data_Dine_Test['Dine In Amount Prediction'])\n"
   ]
  },
  {
   "cell_type": "code",
   "execution_count": 14,
   "metadata": {},
   "outputs": [
    {
     "data": {
      "text/plain": [
       "6769.573388950098"
      ]
     },
     "execution_count": 14,
     "metadata": {},
     "output_type": "execute_result"
    }
   ],
   "source": [
    "mean_absolute_error(y_true=Data_Dine_Test['Dine In Amount'],\n",
    "                    y_pred=Data_Dine_Test['Dine In Amount Prediction'])\n"
   ]
  },
  {
   "cell_type": "code",
   "execution_count": 15,
   "metadata": {},
   "outputs": [],
   "source": [
    "Data_Dine_Test['error'] = Data_Dine_Test['Dine In Amount'] - \\\n",
    "    Data_Dine_Test['Dine In Amount Prediction']\n",
    "Data_Dine_Test['abs_error'] = Data_Dine_Test['error'].apply(np.abs)\n",
    "error_by_day = Data_Dine_Test.groupby(['year', 'month', 'dayofmonth']) \\\n",
    "    .mean()[['Dine In Amount', 'Dine In Amount Prediction', 'error', 'abs_error']]\n"
   ]
  },
  {
   "cell_type": "code",
   "execution_count": 16,
   "metadata": {},
   "outputs": [
    {
     "data": {
      "text/html": [
       "<div>\n",
       "<style scoped>\n",
       "    .dataframe tbody tr th:only-of-type {\n",
       "        vertical-align: middle;\n",
       "    }\n",
       "\n",
       "    .dataframe tbody tr th {\n",
       "        vertical-align: top;\n",
       "    }\n",
       "\n",
       "    .dataframe thead th {\n",
       "        text-align: right;\n",
       "    }\n",
       "</style>\n",
       "<table border=\"1\" class=\"dataframe\">\n",
       "  <thead>\n",
       "    <tr style=\"text-align: right;\">\n",
       "      <th></th>\n",
       "      <th></th>\n",
       "      <th></th>\n",
       "      <th>Dine In Amount</th>\n",
       "      <th>Dine In Amount Prediction</th>\n",
       "      <th>error</th>\n",
       "      <th>abs_error</th>\n",
       "    </tr>\n",
       "    <tr>\n",
       "      <th>year</th>\n",
       "      <th>month</th>\n",
       "      <th>dayofmonth</th>\n",
       "      <th></th>\n",
       "      <th></th>\n",
       "      <th></th>\n",
       "      <th></th>\n",
       "    </tr>\n",
       "  </thead>\n",
       "  <tbody>\n",
       "    <tr>\n",
       "      <th>2019</th>\n",
       "      <th>10</th>\n",
       "      <th>20</th>\n",
       "      <td>8823</td>\n",
       "      <td>129220.781250</td>\n",
       "      <td>-120397.781250</td>\n",
       "      <td>120397.781250</td>\n",
       "    </tr>\n",
       "    <tr>\n",
       "      <th>2021</th>\n",
       "      <th>9</th>\n",
       "      <th>26</th>\n",
       "      <td>0</td>\n",
       "      <td>50467.175781</td>\n",
       "      <td>-50467.175781</td>\n",
       "      <td>50467.175781</td>\n",
       "    </tr>\n",
       "    <tr>\n",
       "      <th rowspan=\"3\" valign=\"top\">2020</th>\n",
       "      <th rowspan=\"3\" valign=\"top\">9</th>\n",
       "      <th>25</th>\n",
       "      <td>0</td>\n",
       "      <td>50467.175781</td>\n",
       "      <td>-50467.175781</td>\n",
       "      <td>50467.175781</td>\n",
       "    </tr>\n",
       "    <tr>\n",
       "      <th>26</th>\n",
       "      <td>0</td>\n",
       "      <td>50467.175781</td>\n",
       "      <td>-50467.175781</td>\n",
       "      <td>50467.175781</td>\n",
       "    </tr>\n",
       "    <tr>\n",
       "      <th>27</th>\n",
       "      <td>0</td>\n",
       "      <td>50467.175781</td>\n",
       "      <td>-50467.175781</td>\n",
       "      <td>50467.175781</td>\n",
       "    </tr>\n",
       "    <tr>\n",
       "      <th>2019</th>\n",
       "      <th>9</th>\n",
       "      <th>27</th>\n",
       "      <td>3224</td>\n",
       "      <td>50467.175781</td>\n",
       "      <td>-47243.175781</td>\n",
       "      <td>47243.175781</td>\n",
       "    </tr>\n",
       "    <tr>\n",
       "      <th>2021</th>\n",
       "      <th>1</th>\n",
       "      <th>30</th>\n",
       "      <td>5002</td>\n",
       "      <td>39608.699219</td>\n",
       "      <td>-34606.699219</td>\n",
       "      <td>34606.699219</td>\n",
       "    </tr>\n",
       "    <tr>\n",
       "      <th>2019</th>\n",
       "      <th>2</th>\n",
       "      <th>3</th>\n",
       "      <td>5445</td>\n",
       "      <td>39608.699219</td>\n",
       "      <td>-34163.699219</td>\n",
       "      <td>34163.699219</td>\n",
       "    </tr>\n",
       "    <tr>\n",
       "      <th>2020</th>\n",
       "      <th>2</th>\n",
       "      <th>2</th>\n",
       "      <td>5979</td>\n",
       "      <td>39608.699219</td>\n",
       "      <td>-33629.699219</td>\n",
       "      <td>33629.699219</td>\n",
       "    </tr>\n",
       "    <tr>\n",
       "      <th>2019</th>\n",
       "      <th>2</th>\n",
       "      <th>2</th>\n",
       "      <td>8553</td>\n",
       "      <td>39608.699219</td>\n",
       "      <td>-31055.699219</td>\n",
       "      <td>31055.699219</td>\n",
       "    </tr>\n",
       "  </tbody>\n",
       "</table>\n",
       "</div>"
      ],
      "text/plain": [
       "                       Dine In Amount  Dine In Amount Prediction  \\\n",
       "year month dayofmonth                                              \n",
       "2019 10    20                    8823              129220.781250   \n",
       "2021 9     26                       0               50467.175781   \n",
       "2020 9     25                       0               50467.175781   \n",
       "           26                       0               50467.175781   \n",
       "           27                       0               50467.175781   \n",
       "2019 9     27                    3224               50467.175781   \n",
       "2021 1     30                    5002               39608.699219   \n",
       "2019 2     3                     5445               39608.699219   \n",
       "2020 2     2                     5979               39608.699219   \n",
       "2019 2     2                     8553               39608.699219   \n",
       "\n",
       "                               error      abs_error  \n",
       "year month dayofmonth                                \n",
       "2019 10    20         -120397.781250  120397.781250  \n",
       "2021 9     26          -50467.175781   50467.175781  \n",
       "2020 9     25          -50467.175781   50467.175781  \n",
       "           26          -50467.175781   50467.175781  \n",
       "           27          -50467.175781   50467.175781  \n",
       "2019 9     27          -47243.175781   47243.175781  \n",
       "2021 1     30          -34606.699219   34606.699219  \n",
       "2019 2     3           -34163.699219   34163.699219  \n",
       "2020 2     2           -33629.699219   33629.699219  \n",
       "2019 2     2           -31055.699219   31055.699219  "
      ]
     },
     "execution_count": 16,
     "metadata": {},
     "output_type": "execute_result"
    }
   ],
   "source": [
    "error_by_day.sort_values('error', ascending=True).head(10)\n"
   ]
  },
  {
   "cell_type": "code",
   "execution_count": 17,
   "metadata": {},
   "outputs": [
    {
     "data": {
      "text/html": [
       "<div>\n",
       "<style scoped>\n",
       "    .dataframe tbody tr th:only-of-type {\n",
       "        vertical-align: middle;\n",
       "    }\n",
       "\n",
       "    .dataframe tbody tr th {\n",
       "        vertical-align: top;\n",
       "    }\n",
       "\n",
       "    .dataframe thead th {\n",
       "        text-align: right;\n",
       "    }\n",
       "</style>\n",
       "<table border=\"1\" class=\"dataframe\">\n",
       "  <thead>\n",
       "    <tr style=\"text-align: right;\">\n",
       "      <th></th>\n",
       "      <th></th>\n",
       "      <th></th>\n",
       "      <th>Dine In Amount</th>\n",
       "      <th>Dine In Amount Prediction</th>\n",
       "      <th>error</th>\n",
       "      <th>abs_error</th>\n",
       "    </tr>\n",
       "    <tr>\n",
       "      <th>year</th>\n",
       "      <th>month</th>\n",
       "      <th>dayofmonth</th>\n",
       "      <th></th>\n",
       "      <th></th>\n",
       "      <th></th>\n",
       "      <th></th>\n",
       "    </tr>\n",
       "  </thead>\n",
       "  <tbody>\n",
       "    <tr>\n",
       "      <th>2019</th>\n",
       "      <th>3</th>\n",
       "      <th>18</th>\n",
       "      <td>308757</td>\n",
       "      <td>1977.782471</td>\n",
       "      <td>306779.217529</td>\n",
       "      <td>306779.217529</td>\n",
       "    </tr>\n",
       "    <tr>\n",
       "      <th>2020</th>\n",
       "      <th>1</th>\n",
       "      <th>29</th>\n",
       "      <td>154186</td>\n",
       "      <td>1977.782471</td>\n",
       "      <td>152208.217529</td>\n",
       "      <td>152208.217529</td>\n",
       "    </tr>\n",
       "    <tr>\n",
       "      <th rowspan=\"3\" valign=\"top\">2019</th>\n",
       "      <th>12</th>\n",
       "      <th>29</th>\n",
       "      <td>153030</td>\n",
       "      <td>5631.114746</td>\n",
       "      <td>147398.885254</td>\n",
       "      <td>147398.885254</td>\n",
       "    </tr>\n",
       "    <tr>\n",
       "      <th>10</th>\n",
       "      <th>20</th>\n",
       "      <td>8823</td>\n",
       "      <td>129220.781250</td>\n",
       "      <td>-120397.781250</td>\n",
       "      <td>120397.781250</td>\n",
       "    </tr>\n",
       "    <tr>\n",
       "      <th>8</th>\n",
       "      <th>12</th>\n",
       "      <td>105204</td>\n",
       "      <td>1792.841187</td>\n",
       "      <td>103411.158813</td>\n",
       "      <td>103411.158813</td>\n",
       "    </tr>\n",
       "    <tr>\n",
       "      <th>2021</th>\n",
       "      <th>1</th>\n",
       "      <th>3</th>\n",
       "      <td>102679</td>\n",
       "      <td>950.471497</td>\n",
       "      <td>101728.528503</td>\n",
       "      <td>101728.528503</td>\n",
       "    </tr>\n",
       "    <tr>\n",
       "      <th rowspan=\"3\" valign=\"top\">2019</th>\n",
       "      <th rowspan=\"3\" valign=\"top\">7</th>\n",
       "      <th>15</th>\n",
       "      <td>99569</td>\n",
       "      <td>542.420044</td>\n",
       "      <td>99026.579956</td>\n",
       "      <td>99026.579956</td>\n",
       "    </tr>\n",
       "    <tr>\n",
       "      <th>6</th>\n",
       "      <td>89384</td>\n",
       "      <td>2388.368164</td>\n",
       "      <td>86995.631836</td>\n",
       "      <td>86995.631836</td>\n",
       "    </tr>\n",
       "    <tr>\n",
       "      <th>7</th>\n",
       "      <td>86125</td>\n",
       "      <td>4891.965332</td>\n",
       "      <td>81233.034668</td>\n",
       "      <td>81233.034668</td>\n",
       "    </tr>\n",
       "    <tr>\n",
       "      <th>2021</th>\n",
       "      <th>3</th>\n",
       "      <th>2</th>\n",
       "      <td>81885</td>\n",
       "      <td>2101.785889</td>\n",
       "      <td>79783.214111</td>\n",
       "      <td>79783.214111</td>\n",
       "    </tr>\n",
       "  </tbody>\n",
       "</table>\n",
       "</div>"
      ],
      "text/plain": [
       "                       Dine In Amount  Dine In Amount Prediction  \\\n",
       "year month dayofmonth                                              \n",
       "2019 3     18                  308757                1977.782471   \n",
       "2020 1     29                  154186                1977.782471   \n",
       "2019 12    29                  153030                5631.114746   \n",
       "     10    20                    8823              129220.781250   \n",
       "     8     12                  105204                1792.841187   \n",
       "2021 1     3                   102679                 950.471497   \n",
       "2019 7     15                   99569                 542.420044   \n",
       "           6                    89384                2388.368164   \n",
       "           7                    86125                4891.965332   \n",
       "2021 3     2                    81885                2101.785889   \n",
       "\n",
       "                               error      abs_error  \n",
       "year month dayofmonth                                \n",
       "2019 3     18          306779.217529  306779.217529  \n",
       "2020 1     29          152208.217529  152208.217529  \n",
       "2019 12    29          147398.885254  147398.885254  \n",
       "     10    20         -120397.781250  120397.781250  \n",
       "     8     12          103411.158813  103411.158813  \n",
       "2021 1     3           101728.528503  101728.528503  \n",
       "2019 7     15           99026.579956   99026.579956  \n",
       "           6            86995.631836   86995.631836  \n",
       "           7            81233.034668   81233.034668  \n",
       "2021 3     2            79783.214111   79783.214111  "
      ]
     },
     "execution_count": 17,
     "metadata": {},
     "output_type": "execute_result"
    }
   ],
   "source": [
    "\n",
    "error_by_day.sort_values('abs_error', ascending=False).head(10)\n"
   ]
  },
  {
   "cell_type": "code",
   "execution_count": 18,
   "metadata": {},
   "outputs": [
    {
     "data": {
      "text/html": [
       "<div>\n",
       "<style scoped>\n",
       "    .dataframe tbody tr th:only-of-type {\n",
       "        vertical-align: middle;\n",
       "    }\n",
       "\n",
       "    .dataframe tbody tr th {\n",
       "        vertical-align: top;\n",
       "    }\n",
       "\n",
       "    .dataframe thead th {\n",
       "        text-align: right;\n",
       "    }\n",
       "</style>\n",
       "<table border=\"1\" class=\"dataframe\">\n",
       "  <thead>\n",
       "    <tr style=\"text-align: right;\">\n",
       "      <th></th>\n",
       "      <th></th>\n",
       "      <th></th>\n",
       "      <th>Dine In Amount</th>\n",
       "      <th>Dine In Amount Prediction</th>\n",
       "      <th>error</th>\n",
       "      <th>abs_error</th>\n",
       "    </tr>\n",
       "    <tr>\n",
       "      <th>year</th>\n",
       "      <th>month</th>\n",
       "      <th>dayofmonth</th>\n",
       "      <th></th>\n",
       "      <th></th>\n",
       "      <th></th>\n",
       "      <th></th>\n",
       "    </tr>\n",
       "  </thead>\n",
       "  <tbody>\n",
       "    <tr>\n",
       "      <th>2019</th>\n",
       "      <th>1</th>\n",
       "      <th>15</th>\n",
       "      <td>1973</td>\n",
       "      <td>1977.782471</td>\n",
       "      <td>-4.782471</td>\n",
       "      <td>4.782471</td>\n",
       "    </tr>\n",
       "    <tr>\n",
       "      <th>2021</th>\n",
       "      <th>5</th>\n",
       "      <th>31</th>\n",
       "      <td>1989</td>\n",
       "      <td>1977.782471</td>\n",
       "      <td>11.217529</td>\n",
       "      <td>11.217529</td>\n",
       "    </tr>\n",
       "    <tr>\n",
       "      <th>2019</th>\n",
       "      <th>5</th>\n",
       "      <th>20</th>\n",
       "      <td>2011</td>\n",
       "      <td>1977.782471</td>\n",
       "      <td>33.217529</td>\n",
       "      <td>33.217529</td>\n",
       "    </tr>\n",
       "    <tr>\n",
       "      <th>2021</th>\n",
       "      <th>5</th>\n",
       "      <th>27</th>\n",
       "      <td>2017</td>\n",
       "      <td>1977.782471</td>\n",
       "      <td>39.217529</td>\n",
       "      <td>39.217529</td>\n",
       "    </tr>\n",
       "    <tr>\n",
       "      <th>2019</th>\n",
       "      <th>7</th>\n",
       "      <th>30</th>\n",
       "      <td>1836</td>\n",
       "      <td>1792.841187</td>\n",
       "      <td>43.158813</td>\n",
       "      <td>43.158813</td>\n",
       "    </tr>\n",
       "    <tr>\n",
       "      <th>2021</th>\n",
       "      <th>2</th>\n",
       "      <th>25</th>\n",
       "      <td>2027</td>\n",
       "      <td>1977.782471</td>\n",
       "      <td>49.217529</td>\n",
       "      <td>49.217529</td>\n",
       "    </tr>\n",
       "    <tr>\n",
       "      <th>2019</th>\n",
       "      <th>2</th>\n",
       "      <th>6</th>\n",
       "      <td>1926</td>\n",
       "      <td>1977.782471</td>\n",
       "      <td>-51.782471</td>\n",
       "      <td>51.782471</td>\n",
       "    </tr>\n",
       "    <tr>\n",
       "      <th>2020</th>\n",
       "      <th>3</th>\n",
       "      <th>12</th>\n",
       "      <td>1895</td>\n",
       "      <td>1977.782471</td>\n",
       "      <td>-82.782471</td>\n",
       "      <td>82.782471</td>\n",
       "    </tr>\n",
       "    <tr>\n",
       "      <th>2019</th>\n",
       "      <th>3</th>\n",
       "      <th>5</th>\n",
       "      <td>1877</td>\n",
       "      <td>1977.782471</td>\n",
       "      <td>-100.782471</td>\n",
       "      <td>100.782471</td>\n",
       "    </tr>\n",
       "    <tr>\n",
       "      <th>2021</th>\n",
       "      <th>6</th>\n",
       "      <th>7</th>\n",
       "      <td>2083</td>\n",
       "      <td>1977.782471</td>\n",
       "      <td>105.217529</td>\n",
       "      <td>105.217529</td>\n",
       "    </tr>\n",
       "  </tbody>\n",
       "</table>\n",
       "</div>"
      ],
      "text/plain": [
       "                       Dine In Amount  Dine In Amount Prediction       error  \\\n",
       "year month dayofmonth                                                          \n",
       "2019 1     15                    1973                1977.782471   -4.782471   \n",
       "2021 5     31                    1989                1977.782471   11.217529   \n",
       "2019 5     20                    2011                1977.782471   33.217529   \n",
       "2021 5     27                    2017                1977.782471   39.217529   \n",
       "2019 7     30                    1836                1792.841187   43.158813   \n",
       "2021 2     25                    2027                1977.782471   49.217529   \n",
       "2019 2     6                     1926                1977.782471  -51.782471   \n",
       "2020 3     12                    1895                1977.782471  -82.782471   \n",
       "2019 3     5                     1877                1977.782471 -100.782471   \n",
       "2021 6     7                     2083                1977.782471  105.217529   \n",
       "\n",
       "                        abs_error  \n",
       "year month dayofmonth              \n",
       "2019 1     15            4.782471  \n",
       "2021 5     31           11.217529  \n",
       "2019 5     20           33.217529  \n",
       "2021 5     27           39.217529  \n",
       "2019 7     30           43.158813  \n",
       "2021 2     25           49.217529  \n",
       "2019 2     6            51.782471  \n",
       "2020 3     12           82.782471  \n",
       "2019 3     5           100.782471  \n",
       "2021 6     7           105.217529  "
      ]
     },
     "execution_count": 18,
     "metadata": {},
     "output_type": "execute_result"
    }
   ],
   "source": [
    "error_by_day.sort_values('abs_error', ascending=True).head(10)\n"
   ]
  }
 ],
 "metadata": {
  "interpreter": {
   "hash": "b9898c227162885ac07a95499267e7bc74ab674b398399a948fd6335d88e8320"
  },
  "kernelspec": {
   "display_name": "Python 3.8.8 64-bit ('base': conda)",
   "language": "python",
   "name": "python3"
  },
  "language_info": {
   "codemirror_mode": {
    "name": "ipython",
    "version": 3
   },
   "file_extension": ".py",
   "mimetype": "text/x-python",
   "name": "python",
   "nbconvert_exporter": "python",
   "pygments_lexer": "ipython3",
   "version": "3.8.8"
  },
  "orig_nbformat": 4
 },
 "nbformat": 4,
 "nbformat_minor": 2
}
