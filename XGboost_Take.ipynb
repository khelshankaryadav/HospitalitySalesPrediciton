{
 "cells": [
  {
   "cell_type": "code",
   "execution_count": 1,
   "metadata": {},
   "outputs": [],
   "source": [
    "import numpy as np  # linear algebra\n",
    "import pandas as pd  # data processing, CSV file I/O (e.g. pd.read_csv)\n",
    "import seaborn as sns\n",
    "import matplotlib.pyplot as plt\n",
    "import xgboost as xgb\n",
    "from xgboost import plot_importance, plot_tree\n",
    "from sklearn.metrics import mean_squared_error, mean_absolute_error\n",
    "plt.style.use('fivethirtyeight')\n"
   ]
  },
  {
   "cell_type": "code",
   "execution_count": 2,
   "metadata": {},
   "outputs": [],
   "source": [
    "Dataset = pd.read_csv('Dataset.csv')\n"
   ]
  },
  {
   "cell_type": "code",
   "execution_count": 3,
   "metadata": {},
   "outputs": [],
   "source": [
    "Dataset['Date'] = pd.to_datetime(Dataset.Date, format=\"%d-%m-%Y\")\n"
   ]
  },
  {
   "cell_type": "code",
   "execution_count": 4,
   "metadata": {},
   "outputs": [
    {
     "data": {
      "text/html": [
       "<div>\n",
       "<style scoped>\n",
       "    .dataframe tbody tr th:only-of-type {\n",
       "        vertical-align: middle;\n",
       "    }\n",
       "\n",
       "    .dataframe tbody tr th {\n",
       "        vertical-align: top;\n",
       "    }\n",
       "\n",
       "    .dataframe thead th {\n",
       "        text-align: right;\n",
       "    }\n",
       "</style>\n",
       "<table border=\"1\" class=\"dataframe\">\n",
       "  <thead>\n",
       "    <tr style=\"text-align: right;\">\n",
       "      <th></th>\n",
       "      <th>Takeaway Amount</th>\n",
       "    </tr>\n",
       "    <tr>\n",
       "      <th>Date</th>\n",
       "      <th></th>\n",
       "    </tr>\n",
       "  </thead>\n",
       "  <tbody>\n",
       "    <tr>\n",
       "      <th>2013-09-01</th>\n",
       "      <td>0</td>\n",
       "    </tr>\n",
       "    <tr>\n",
       "      <th>2013-09-02</th>\n",
       "      <td>0</td>\n",
       "    </tr>\n",
       "    <tr>\n",
       "      <th>2013-09-03</th>\n",
       "      <td>0</td>\n",
       "    </tr>\n",
       "    <tr>\n",
       "      <th>2013-09-04</th>\n",
       "      <td>0</td>\n",
       "    </tr>\n",
       "    <tr>\n",
       "      <th>2013-09-05</th>\n",
       "      <td>0</td>\n",
       "    </tr>\n",
       "  </tbody>\n",
       "</table>\n",
       "</div>"
      ],
      "text/plain": [
       "            Takeaway Amount\n",
       "Date                       \n",
       "2013-09-01                0\n",
       "2013-09-02                0\n",
       "2013-09-03                0\n",
       "2013-09-04                0\n",
       "2013-09-05                0"
      ]
     },
     "execution_count": 4,
     "metadata": {},
     "output_type": "execute_result"
    }
   ],
   "source": [
    "Data_Take = Dataset[['Date', 'Takeaway Amount']]\n",
    "Data_Take = Data_Take.set_index('Date')\n",
    "Data_Take.head()\n"
   ]
  },
  {
   "cell_type": "code",
   "execution_count": 5,
   "metadata": {},
   "outputs": [],
   "source": [
    "def create_features(df, label=None):\n",
    "    df['date'] = df.index\n",
    "    df['hour'] = df['date'].dt.hour\n",
    "    df['dayofweek'] = df['date'].dt.dayofweek\n",
    "    df['quarter'] = df['date'].dt.quarter\n",
    "    df['month'] = df['date'].dt.month\n",
    "    df['year'] = df['date'].dt.year\n",
    "    df['dayofyear'] = df['date'].dt.dayofyear\n",
    "    df['dayofmonth'] = df['date'].dt.day\n",
    "    df['weekofyear'] = df['date'].dt.weekofyear\n",
    "    X = df[['hour', 'dayofweek', 'quarter', 'month', 'year',\n",
    "           'dayofyear', 'dayofmonth', 'weekofyear']]\n",
    "    if label:\n",
    "        y = df[label]\n",
    "        return X, y\n",
    "    return X\n"
   ]
  },
  {
   "cell_type": "code",
   "execution_count": 6,
   "metadata": {},
   "outputs": [],
   "source": [
    "split_date_r = '01-Jan-2019'\n",
    "Data_Take_Train = Data_Take.loc[Data_Take.index <= split_date_r].copy()\n",
    "Data_Take_Test = Data_Take.loc[Data_Take.index > split_date_r].copy()\n"
   ]
  },
  {
   "cell_type": "code",
   "execution_count": 7,
   "metadata": {},
   "outputs": [
    {
     "name": "stderr",
     "output_type": "stream",
     "text": [
      "<ipython-input-5-7d898388bd09>:10: FutureWarning: Series.dt.weekofyear and Series.dt.week have been deprecated.  Please use Series.dt.isocalendar().week instead.\n",
      "  df['weekofyear'] = df['date'].dt.weekofyear\n"
     ]
    }
   ],
   "source": [
    "X_Train_R, Y_Train_R = create_features(\n",
    "    Data_Take_Train, label='Takeaway Amount')\n",
    "X_Test_R, Y_Test_R = create_features(Data_Take_Test, label='Takeaway Amount')\n"
   ]
  },
  {
   "cell_type": "code",
   "execution_count": 8,
   "metadata": {},
   "outputs": [
    {
     "data": {
      "text/plain": [
       "XGBRegressor(base_score=0.5, booster='gbtree', colsample_bylevel=1,\n",
       "             colsample_bynode=1, colsample_bytree=1, enable_categorical=False,\n",
       "             gamma=0, gpu_id=-1, importance_type=None,\n",
       "             interaction_constraints='', learning_rate=0.300000012,\n",
       "             max_delta_step=0, max_depth=6, min_child_weight=1, missing=nan,\n",
       "             monotone_constraints='()', n_estimators=1000, n_jobs=8,\n",
       "             num_parallel_tree=1, predictor='auto', random_state=0, reg_alpha=0,\n",
       "             reg_lambda=1, scale_pos_weight=1, subsample=1, tree_method='exact',\n",
       "             validate_parameters=1, verbosity=None)"
      ]
     },
     "execution_count": 8,
     "metadata": {},
     "output_type": "execute_result"
    }
   ],
   "source": [
    "XGB_T = xgb.XGBRegressor(n_estimators=1000)\n",
    "XGB_T.fit(X_Train_R, Y_Train_R,\n",
    "        eval_set=[(X_Train_R, Y_Train_R), (X_Test_R, Y_Test_R)],\n",
    "        early_stopping_rounds=50,\n",
    "        verbose=False)\n"
   ]
  },
  {
   "cell_type": "code",
   "execution_count": 9,
   "metadata": {},
   "outputs": [
    {
     "data": {
      "text/plain": [
       "<AxesSubplot:title={'center':'Feature importance'}, xlabel='F score', ylabel='Features'>"
      ]
     },
     "execution_count": 9,
     "metadata": {},
     "output_type": "execute_result"
    },
    {
     "data": {
      "image/png": "[encoded data removed]",
      "text/plain": [
       "<Figure size 432x288 with 1 Axes>"
      ]
     },
     "metadata": {},
     "output_type": "display_data"
    }
   ],
   "source": [
    "plot_importance(XGB_T, height=0.9)\n"
   ]
  },
  {
   "cell_type": "code",
   "execution_count": 10,
   "metadata": {},
   "outputs": [],
   "source": [
    "Data_Take_Test['Takeaway Amount Prediction'] = XGB_T.predict(X_Test_R)\n",
    "Data_Take_all = pd.concat([Data_Take_Test, Data_Take_Train], sort=False)\n"
   ]
  },
  {
   "cell_type": "code",
   "execution_count": 11,
   "metadata": {},
   "outputs": [
    {
     "data": {
      "text/plain": [
       "<AxesSubplot:xlabel='Date'>"
      ]
     },
     "execution_count": 11,
     "metadata": {},
     "output_type": "execute_result"
    },
    {
     "data": {
      "image/png": "[encoded data removed]",
      "text/plain": [
       "<Figure size 1080x360 with 1 Axes>"
      ]
     },
     "metadata": {},
     "output_type": "display_data"
    }
   ],
   "source": [
    "Data_Take_all[['Takeaway Amount', 'Takeaway Amount Prediction']].plot(\n",
    "    figsize=(15, 5))\n"
   ]
  },
  {
   "cell_type": "code",
   "execution_count": 12,
   "metadata": {},
   "outputs": [
    {
     "data": {
      "image/png": "[encoded data removed]",
      "text/plain": [
       "<Figure size 1080x360 with 1 Axes>"
      ]
     },
     "metadata": {},
     "output_type": "display_data"
    }
   ],
   "source": [
    "f, ax = plt.subplots(1)\n",
    "f.set_figheight(5)\n",
    "f.set_figwidth(15)\n",
    "Data_Take_all[['Takeaway Amount Prediction', 'Takeaway Amount']].plot(ax=ax,\n",
    "                                                style=['-', '-'])\n",
    "ax.set_xbound(lower='01-01-2019', upper='02-01-2019')\n",
    "ax.set_ylim(0, 60000)\n",
    "plot = plt.suptitle('January 2019 Forecast vs Actuals')\n"
   ]
  },
  {
   "cell_type": "code",
   "execution_count": 13,
   "metadata": {},
   "outputs": [
    {
     "data": {
      "text/plain": [
       "542139.2323292865"
      ]
     },
     "execution_count": 13,
     "metadata": {},
     "output_type": "execute_result"
    }
   ],
   "source": [
    "mean_squared_error(y_true=Data_Take_Test['Takeaway Amount'],\n",
    "                   y_pred=Data_Take_Test['Takeaway Amount Prediction'])\n"
   ]
  },
  {
   "cell_type": "code",
   "execution_count": 14,
   "metadata": {},
   "outputs": [
    {
     "data": {
      "text/plain": [
       "271.7642774804082"
      ]
     },
     "execution_count": 14,
     "metadata": {},
     "output_type": "execute_result"
    }
   ],
   "source": [
    "mean_absolute_error(y_true=Data_Take_Test['Takeaway Amount'],\n",
    "                    y_pred=Data_Take_Test['Takeaway Amount Prediction'])\n"
   ]
  },
  {
   "cell_type": "code",
   "execution_count": 15,
   "metadata": {},
   "outputs": [],
   "source": [
    "Data_Take_Test['error'] = Data_Take_Test['Takeaway Amount'] - \\\n",
    "    Data_Take_Test['Takeaway Amount Prediction']\n",
    "Data_Take_Test['abs_error'] = Data_Take_Test['error'].apply(np.abs)\n",
    "error_by_day = Data_Take_Test.groupby(['year', 'month', 'dayofmonth']) \\\n",
    "    .mean()[['Takeaway Amount', 'Takeaway Amount Prediction', 'error', 'abs_error']]\n"
   ]
  },
  {
   "cell_type": "code",
   "execution_count": 16,
   "metadata": {},
   "outputs": [
    {
     "data": {
      "text/html": [
       "<div>\n",
       "<style scoped>\n",
       "    .dataframe tbody tr th:only-of-type {\n",
       "        vertical-align: middle;\n",
       "    }\n",
       "\n",
       "    .dataframe tbody tr th {\n",
       "        vertical-align: top;\n",
       "    }\n",
       "\n",
       "    .dataframe thead th {\n",
       "        text-align: right;\n",
       "    }\n",
       "</style>\n",
       "<table border=\"1\" class=\"dataframe\">\n",
       "  <thead>\n",
       "    <tr style=\"text-align: right;\">\n",
       "      <th></th>\n",
       "      <th></th>\n",
       "      <th></th>\n",
       "      <th>Takeaway Amount</th>\n",
       "      <th>Takeaway Amount Prediction</th>\n",
       "      <th>error</th>\n",
       "      <th>abs_error</th>\n",
       "    </tr>\n",
       "    <tr>\n",
       "      <th>year</th>\n",
       "      <th>month</th>\n",
       "      <th>dayofmonth</th>\n",
       "      <th></th>\n",
       "      <th></th>\n",
       "      <th></th>\n",
       "      <th></th>\n",
       "    </tr>\n",
       "  </thead>\n",
       "  <tbody>\n",
       "    <tr>\n",
       "      <th>2019</th>\n",
       "      <th>1</th>\n",
       "      <th>2</th>\n",
       "      <td>0</td>\n",
       "      <td>0.350409</td>\n",
       "      <td>-0.350409</td>\n",
       "      <td>0.350409</td>\n",
       "    </tr>\n",
       "    <tr>\n",
       "      <th rowspan=\"9\" valign=\"top\">2020</th>\n",
       "      <th rowspan=\"9\" valign=\"top\">6</th>\n",
       "      <th>22</th>\n",
       "      <td>0</td>\n",
       "      <td>0.350409</td>\n",
       "      <td>-0.350409</td>\n",
       "      <td>0.350409</td>\n",
       "    </tr>\n",
       "    <tr>\n",
       "      <th>23</th>\n",
       "      <td>0</td>\n",
       "      <td>0.350409</td>\n",
       "      <td>-0.350409</td>\n",
       "      <td>0.350409</td>\n",
       "    </tr>\n",
       "    <tr>\n",
       "      <th>24</th>\n",
       "      <td>0</td>\n",
       "      <td>0.350409</td>\n",
       "      <td>-0.350409</td>\n",
       "      <td>0.350409</td>\n",
       "    </tr>\n",
       "    <tr>\n",
       "      <th>25</th>\n",
       "      <td>0</td>\n",
       "      <td>0.350409</td>\n",
       "      <td>-0.350409</td>\n",
       "      <td>0.350409</td>\n",
       "    </tr>\n",
       "    <tr>\n",
       "      <th>26</th>\n",
       "      <td>0</td>\n",
       "      <td>0.350409</td>\n",
       "      <td>-0.350409</td>\n",
       "      <td>0.350409</td>\n",
       "    </tr>\n",
       "    <tr>\n",
       "      <th>27</th>\n",
       "      <td>0</td>\n",
       "      <td>0.350409</td>\n",
       "      <td>-0.350409</td>\n",
       "      <td>0.350409</td>\n",
       "    </tr>\n",
       "    <tr>\n",
       "      <th>28</th>\n",
       "      <td>0</td>\n",
       "      <td>0.350409</td>\n",
       "      <td>-0.350409</td>\n",
       "      <td>0.350409</td>\n",
       "    </tr>\n",
       "    <tr>\n",
       "      <th>29</th>\n",
       "      <td>0</td>\n",
       "      <td>0.350409</td>\n",
       "      <td>-0.350409</td>\n",
       "      <td>0.350409</td>\n",
       "    </tr>\n",
       "    <tr>\n",
       "      <th>30</th>\n",
       "      <td>0</td>\n",
       "      <td>0.350409</td>\n",
       "      <td>-0.350409</td>\n",
       "      <td>0.350409</td>\n",
       "    </tr>\n",
       "  </tbody>\n",
       "</table>\n",
       "</div>"
      ],
      "text/plain": [
       "                       Takeaway Amount  Takeaway Amount Prediction     error  \\\n",
       "year month dayofmonth                                                          \n",
       "2019 1     2                         0                    0.350409 -0.350409   \n",
       "2020 6     22                        0                    0.350409 -0.350409   \n",
       "           23                        0                    0.350409 -0.350409   \n",
       "           24                        0                    0.350409 -0.350409   \n",
       "           25                        0                    0.350409 -0.350409   \n",
       "           26                        0                    0.350409 -0.350409   \n",
       "           27                        0                    0.350409 -0.350409   \n",
       "           28                        0                    0.350409 -0.350409   \n",
       "           29                        0                    0.350409 -0.350409   \n",
       "           30                        0                    0.350409 -0.350409   \n",
       "\n",
       "                       abs_error  \n",
       "year month dayofmonth             \n",
       "2019 1     2            0.350409  \n",
       "2020 6     22           0.350409  \n",
       "           23           0.350409  \n",
       "           24           0.350409  \n",
       "           25           0.350409  \n",
       "           26           0.350409  \n",
       "           27           0.350409  \n",
       "           28           0.350409  \n",
       "           29           0.350409  \n",
       "           30           0.350409  "
      ]
     },
     "execution_count": 16,
     "metadata": {},
     "output_type": "execute_result"
    }
   ],
   "source": [
    "error_by_day.sort_values('error', ascending=True).head(10)\n"
   ]
  },
  {
   "cell_type": "code",
   "execution_count": 17,
   "metadata": {},
   "outputs": [
    {
     "data": {
      "text/html": [
       "<div>\n",
       "<style scoped>\n",
       "    .dataframe tbody tr th:only-of-type {\n",
       "        vertical-align: middle;\n",
       "    }\n",
       "\n",
       "    .dataframe tbody tr th {\n",
       "        vertical-align: top;\n",
       "    }\n",
       "\n",
       "    .dataframe thead th {\n",
       "        text-align: right;\n",
       "    }\n",
       "</style>\n",
       "<table border=\"1\" class=\"dataframe\">\n",
       "  <thead>\n",
       "    <tr style=\"text-align: right;\">\n",
       "      <th></th>\n",
       "      <th></th>\n",
       "      <th></th>\n",
       "      <th>Takeaway Amount</th>\n",
       "      <th>Takeaway Amount Prediction</th>\n",
       "      <th>error</th>\n",
       "      <th>abs_error</th>\n",
       "    </tr>\n",
       "    <tr>\n",
       "      <th>year</th>\n",
       "      <th>month</th>\n",
       "      <th>dayofmonth</th>\n",
       "      <th></th>\n",
       "      <th></th>\n",
       "      <th></th>\n",
       "      <th></th>\n",
       "    </tr>\n",
       "  </thead>\n",
       "  <tbody>\n",
       "    <tr>\n",
       "      <th rowspan=\"10\" valign=\"top\">2021</th>\n",
       "      <th rowspan=\"2\" valign=\"top\">10</th>\n",
       "      <th>28</th>\n",
       "      <td>7320</td>\n",
       "      <td>0.350409</td>\n",
       "      <td>7319.649591</td>\n",
       "      <td>7319.649591</td>\n",
       "    </tr>\n",
       "    <tr>\n",
       "      <th>29</th>\n",
       "      <td>5080</td>\n",
       "      <td>0.350409</td>\n",
       "      <td>5079.649591</td>\n",
       "      <td>5079.649591</td>\n",
       "    </tr>\n",
       "    <tr>\n",
       "      <th>9</th>\n",
       "      <th>20</th>\n",
       "      <td>4155</td>\n",
       "      <td>0.350409</td>\n",
       "      <td>4154.649591</td>\n",
       "      <td>4154.649591</td>\n",
       "    </tr>\n",
       "    <tr>\n",
       "      <th>10</th>\n",
       "      <th>30</th>\n",
       "      <td>4020</td>\n",
       "      <td>0.350409</td>\n",
       "      <td>4019.649591</td>\n",
       "      <td>4019.649591</td>\n",
       "    </tr>\n",
       "    <tr>\n",
       "      <th>7</th>\n",
       "      <th>30</th>\n",
       "      <td>3700</td>\n",
       "      <td>0.350409</td>\n",
       "      <td>3699.649591</td>\n",
       "      <td>3699.649591</td>\n",
       "    </tr>\n",
       "    <tr>\n",
       "      <th rowspan=\"2\" valign=\"top\">10</th>\n",
       "      <th>14</th>\n",
       "      <td>3690</td>\n",
       "      <td>0.350409</td>\n",
       "      <td>3689.649591</td>\n",
       "      <td>3689.649591</td>\n",
       "    </tr>\n",
       "    <tr>\n",
       "      <th>13</th>\n",
       "      <td>3400</td>\n",
       "      <td>0.350409</td>\n",
       "      <td>3399.649591</td>\n",
       "      <td>3399.649591</td>\n",
       "    </tr>\n",
       "    <tr>\n",
       "      <th>11</th>\n",
       "      <th>16</th>\n",
       "      <td>3370</td>\n",
       "      <td>0.350409</td>\n",
       "      <td>3369.649591</td>\n",
       "      <td>3369.649591</td>\n",
       "    </tr>\n",
       "    <tr>\n",
       "      <th>8</th>\n",
       "      <th>10</th>\n",
       "      <td>3360</td>\n",
       "      <td>0.350409</td>\n",
       "      <td>3359.649591</td>\n",
       "      <td>3359.649591</td>\n",
       "    </tr>\n",
       "    <tr>\n",
       "      <th>9</th>\n",
       "      <th>30</th>\n",
       "      <td>3350</td>\n",
       "      <td>0.350409</td>\n",
       "      <td>3349.649591</td>\n",
       "      <td>3349.649591</td>\n",
       "    </tr>\n",
       "  </tbody>\n",
       "</table>\n",
       "</div>"
      ],
      "text/plain": [
       "                       Takeaway Amount  Takeaway Amount Prediction  \\\n",
       "year month dayofmonth                                                \n",
       "2021 10    28                     7320                    0.350409   \n",
       "           29                     5080                    0.350409   \n",
       "     9     20                     4155                    0.350409   \n",
       "     10    30                     4020                    0.350409   \n",
       "     7     30                     3700                    0.350409   \n",
       "     10    14                     3690                    0.350409   \n",
       "           13                     3400                    0.350409   \n",
       "     11    16                     3370                    0.350409   \n",
       "     8     10                     3360                    0.350409   \n",
       "     9     30                     3350                    0.350409   \n",
       "\n",
       "                             error    abs_error  \n",
       "year month dayofmonth                            \n",
       "2021 10    28          7319.649591  7319.649591  \n",
       "           29          5079.649591  5079.649591  \n",
       "     9     20          4154.649591  4154.649591  \n",
       "     10    30          4019.649591  4019.649591  \n",
       "     7     30          3699.649591  3699.649591  \n",
       "     10    14          3689.649591  3689.649591  \n",
       "           13          3399.649591  3399.649591  \n",
       "     11    16          3369.649591  3369.649591  \n",
       "     8     10          3359.649591  3359.649591  \n",
       "     9     30          3349.649591  3349.649591  "
      ]
     },
     "execution_count": 17,
     "metadata": {},
     "output_type": "execute_result"
    }
   ],
   "source": [
    "error_by_day.sort_values('abs_error', ascending=False).head(10)\n"
   ]
  },
  {
   "cell_type": "code",
   "execution_count": 18,
   "metadata": {},
   "outputs": [
    {
     "data": {
      "text/html": [
       "<div>\n",
       "<style scoped>\n",
       "    .dataframe tbody tr th:only-of-type {\n",
       "        vertical-align: middle;\n",
       "    }\n",
       "\n",
       "    .dataframe tbody tr th {\n",
       "        vertical-align: top;\n",
       "    }\n",
       "\n",
       "    .dataframe thead th {\n",
       "        text-align: right;\n",
       "    }\n",
       "</style>\n",
       "<table border=\"1\" class=\"dataframe\">\n",
       "  <thead>\n",
       "    <tr style=\"text-align: right;\">\n",
       "      <th></th>\n",
       "      <th></th>\n",
       "      <th></th>\n",
       "      <th>Takeaway Amount</th>\n",
       "      <th>Takeaway Amount Prediction</th>\n",
       "      <th>error</th>\n",
       "      <th>abs_error</th>\n",
       "    </tr>\n",
       "    <tr>\n",
       "      <th>year</th>\n",
       "      <th>month</th>\n",
       "      <th>dayofmonth</th>\n",
       "      <th></th>\n",
       "      <th></th>\n",
       "      <th></th>\n",
       "      <th></th>\n",
       "    </tr>\n",
       "  </thead>\n",
       "  <tbody>\n",
       "    <tr>\n",
       "      <th>2019</th>\n",
       "      <th>1</th>\n",
       "      <th>2</th>\n",
       "      <td>0</td>\n",
       "      <td>0.350409</td>\n",
       "      <td>-0.350409</td>\n",
       "      <td>0.350409</td>\n",
       "    </tr>\n",
       "    <tr>\n",
       "      <th rowspan=\"9\" valign=\"top\">2020</th>\n",
       "      <th rowspan=\"9\" valign=\"top\">6</th>\n",
       "      <th>22</th>\n",
       "      <td>0</td>\n",
       "      <td>0.350409</td>\n",
       "      <td>-0.350409</td>\n",
       "      <td>0.350409</td>\n",
       "    </tr>\n",
       "    <tr>\n",
       "      <th>23</th>\n",
       "      <td>0</td>\n",
       "      <td>0.350409</td>\n",
       "      <td>-0.350409</td>\n",
       "      <td>0.350409</td>\n",
       "    </tr>\n",
       "    <tr>\n",
       "      <th>24</th>\n",
       "      <td>0</td>\n",
       "      <td>0.350409</td>\n",
       "      <td>-0.350409</td>\n",
       "      <td>0.350409</td>\n",
       "    </tr>\n",
       "    <tr>\n",
       "      <th>25</th>\n",
       "      <td>0</td>\n",
       "      <td>0.350409</td>\n",
       "      <td>-0.350409</td>\n",
       "      <td>0.350409</td>\n",
       "    </tr>\n",
       "    <tr>\n",
       "      <th>26</th>\n",
       "      <td>0</td>\n",
       "      <td>0.350409</td>\n",
       "      <td>-0.350409</td>\n",
       "      <td>0.350409</td>\n",
       "    </tr>\n",
       "    <tr>\n",
       "      <th>27</th>\n",
       "      <td>0</td>\n",
       "      <td>0.350409</td>\n",
       "      <td>-0.350409</td>\n",
       "      <td>0.350409</td>\n",
       "    </tr>\n",
       "    <tr>\n",
       "      <th>28</th>\n",
       "      <td>0</td>\n",
       "      <td>0.350409</td>\n",
       "      <td>-0.350409</td>\n",
       "      <td>0.350409</td>\n",
       "    </tr>\n",
       "    <tr>\n",
       "      <th>29</th>\n",
       "      <td>0</td>\n",
       "      <td>0.350409</td>\n",
       "      <td>-0.350409</td>\n",
       "      <td>0.350409</td>\n",
       "    </tr>\n",
       "    <tr>\n",
       "      <th>30</th>\n",
       "      <td>0</td>\n",
       "      <td>0.350409</td>\n",
       "      <td>-0.350409</td>\n",
       "      <td>0.350409</td>\n",
       "    </tr>\n",
       "  </tbody>\n",
       "</table>\n",
       "</div>"
      ],
      "text/plain": [
       "                       Takeaway Amount  Takeaway Amount Prediction     error  \\\n",
       "year month dayofmonth                                                          \n",
       "2019 1     2                         0                    0.350409 -0.350409   \n",
       "2020 6     22                        0                    0.350409 -0.350409   \n",
       "           23                        0                    0.350409 -0.350409   \n",
       "           24                        0                    0.350409 -0.350409   \n",
       "           25                        0                    0.350409 -0.350409   \n",
       "           26                        0                    0.350409 -0.350409   \n",
       "           27                        0                    0.350409 -0.350409   \n",
       "           28                        0                    0.350409 -0.350409   \n",
       "           29                        0                    0.350409 -0.350409   \n",
       "           30                        0                    0.350409 -0.350409   \n",
       "\n",
       "                       abs_error  \n",
       "year month dayofmonth             \n",
       "2019 1     2            0.350409  \n",
       "2020 6     22           0.350409  \n",
       "           23           0.350409  \n",
       "           24           0.350409  \n",
       "           25           0.350409  \n",
       "           26           0.350409  \n",
       "           27           0.350409  \n",
       "           28           0.350409  \n",
       "           29           0.350409  \n",
       "           30           0.350409  "
      ]
     },
     "execution_count": 18,
     "metadata": {},
     "output_type": "execute_result"
    }
   ],
   "source": [
    "error_by_day.sort_values('abs_error', ascending=True).head(10)\n"
   ]
  }
 ],
 "metadata": {
  "interpreter": {
   "hash": "b9898c227162885ac07a95499267e7bc74ab674b398399a948fd6335d88e8320"
  },
  "kernelspec": {
   "display_name": "Python 3.8.8 64-bit ('base': conda)",
   "language": "python",
   "name": "python3"
  },
  "language_info": {
   "codemirror_mode": {
    "name": "ipython",
    "version": 3
   },
   "file_extension": ".py",
   "mimetype": "text/x-python",
   "name": "python",
   "nbconvert_exporter": "python",
   "pygments_lexer": "ipython3",
   "version": "3.8.8"
  },
  "orig_nbformat": 4
 },
 "nbformat": 4,
 "nbformat_minor": 2
}
