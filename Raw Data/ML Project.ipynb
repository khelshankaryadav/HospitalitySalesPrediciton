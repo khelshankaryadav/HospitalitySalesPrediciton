{
 "cells": [
  {
   "cell_type": "code",
   "execution_count": 5,
   "metadata": {},
   "outputs": [],
   "source": [
    "import pandas as pd\n"
   ]
  },
  {
   "cell_type": "code",
   "execution_count": 6,
   "metadata": {},
   "outputs": [],
   "source": [
    "Dine_In_Data = pd.read_csv('./Dine In.csv')\n",
    "Rooms_In_Data = pd.read_csv('./Rooms.csv')\n",
    "TakeAway_In_Data = pd.read_csv('./Take Away.csv')\n",
    "Bar_Data=pd.read_csv('./Bar.csv')\n"
   ]
  },
  {
   "cell_type": "code",
   "execution_count": 7,
   "metadata": {},
   "outputs": [],
   "source": [
    "Dine_In_Data['Date'] = pd.to_datetime(Dine_In_Data['Date'], format='%d-%m-%y')\n",
    "Rooms_In_Data['Date'] = pd.to_datetime(\n",
    "    Rooms_In_Data['Date'], format='%d-%m-%y')\n",
    "TakeAway_In_Data['Date'] = pd.to_datetime(\n",
    "    TakeAway_In_Data['Date'], format='%d-%m-%y')\n",
    "Bar_Data['Date'] = pd.to_datetime(\n",
    "    Bar_Data['Date'], format='%d-%m-%y')\n"
   ]
  },
  {
   "cell_type": "code",
   "execution_count": 8,
   "metadata": {},
   "outputs": [],
   "source": [
    "Dine_In_Amount = pd.DataFrame(\n",
    "    Dine_In_Data['Dine In Amount'].groupby(Dine_In_Data['Date']).sum())\n",
    "Room_Amount = pd.DataFrame(\n",
    "    Rooms_In_Data['Room Amount'].groupby(Rooms_In_Data['Date']).sum())\n",
    "Takeaway_Amount = pd.DataFrame(\n",
    "    TakeAway_In_Data['Takeaway Amount'].groupby(TakeAway_In_Data['Date']).sum())\n",
    "Bar_Amount = pd.DataFrame(\n",
    "    Bar_Data['Bar Amount'].groupby(Bar_Data['Date']).sum())\n"
   ]
  },
  {
   "cell_type": "code",
   "execution_count": 9,
   "metadata": {},
   "outputs": [],
   "source": [
    "data = pd.merge(Room_Amount, Dine_In_Amount, on='Date', how='outer')\n",
    "data = pd.merge(data, Takeaway_Amount, on='Date', how='outer')\n",
    "data = pd.merge(data, Bar_Amount, on='Date', how='outer')\n"
   ]
  },
  {
   "cell_type": "code",
   "execution_count": 10,
   "metadata": {},
   "outputs": [
    {
     "data": {
      "text/html": [
       "<div>\n",
       "<style scoped>\n",
       "    .dataframe tbody tr th:only-of-type {\n",
       "        vertical-align: middle;\n",
       "    }\n",
       "\n",
       "    .dataframe tbody tr th {\n",
       "        vertical-align: top;\n",
       "    }\n",
       "\n",
       "    .dataframe thead th {\n",
       "        text-align: right;\n",
       "    }\n",
       "</style>\n",
       "<table border=\"1\" class=\"dataframe\">\n",
       "  <thead>\n",
       "    <tr style=\"text-align: right;\">\n",
       "      <th></th>\n",
       "      <th>Room Amount</th>\n",
       "      <th>Dine In Amount</th>\n",
       "      <th>Takeaway Amount</th>\n",
       "      <th>Bar Amount</th>\n",
       "    </tr>\n",
       "    <tr>\n",
       "      <th>Date</th>\n",
       "      <th></th>\n",
       "      <th></th>\n",
       "      <th></th>\n",
       "      <th></th>\n",
       "    </tr>\n",
       "  </thead>\n",
       "  <tbody>\n",
       "    <tr>\n",
       "      <th>2013-09-01</th>\n",
       "      <td>NaN</td>\n",
       "      <td>53722.0</td>\n",
       "      <td>NaN</td>\n",
       "      <td>7760.0</td>\n",
       "    </tr>\n",
       "    <tr>\n",
       "      <th>2013-09-02</th>\n",
       "      <td>NaN</td>\n",
       "      <td>39137.0</td>\n",
       "      <td>NaN</td>\n",
       "      <td>25239.0</td>\n",
       "    </tr>\n",
       "    <tr>\n",
       "      <th>2013-09-03</th>\n",
       "      <td>NaN</td>\n",
       "      <td>597.0</td>\n",
       "      <td>NaN</td>\n",
       "      <td>4127.0</td>\n",
       "    </tr>\n",
       "    <tr>\n",
       "      <th>2013-09-04</th>\n",
       "      <td>NaN</td>\n",
       "      <td>NaN</td>\n",
       "      <td>NaN</td>\n",
       "      <td>2273.0</td>\n",
       "    </tr>\n",
       "    <tr>\n",
       "      <th>2013-09-05</th>\n",
       "      <td>NaN</td>\n",
       "      <td>4999.0</td>\n",
       "      <td>NaN</td>\n",
       "      <td>12505.0</td>\n",
       "    </tr>\n",
       "  </tbody>\n",
       "</table>\n",
       "</div>"
      ],
      "text/plain": [
       "            Room Amount  Dine In Amount  Takeaway Amount  Bar Amount\n",
       "Date                                                                \n",
       "2013-09-01          NaN         53722.0              NaN      7760.0\n",
       "2013-09-02          NaN         39137.0              NaN     25239.0\n",
       "2013-09-03          NaN           597.0              NaN      4127.0\n",
       "2013-09-04          NaN             NaN              NaN      2273.0\n",
       "2013-09-05          NaN          4999.0              NaN     12505.0"
      ]
     },
     "execution_count": 10,
     "metadata": {},
     "output_type": "execute_result"
    }
   ],
   "source": [
    "data.sort_values(by='Date', inplace=True)\n",
    "data.head()\n"
   ]
  },
  {
   "cell_type": "code",
   "execution_count": 11,
   "metadata": {},
   "outputs": [],
   "source": [
    "data.to_excel('Dataset.xlsx')\n"
   ]
  }
 ],
 "metadata": {
  "interpreter": {
   "hash": "b9898c227162885ac07a95499267e7bc74ab674b398399a948fd6335d88e8320"
  },
  "kernelspec": {
   "display_name": "Python 3.8.8 64-bit ('base': conda)",
   "language": "python",
   "name": "python3"
  },
  "language_info": {
   "codemirror_mode": {
    "name": "ipython",
    "version": 3
   },
   "file_extension": ".py",
   "mimetype": "text/x-python",
   "name": "python",
   "nbconvert_exporter": "python",
   "pygments_lexer": "ipython3",
   "version": "3.8.8"
  },
  "orig_nbformat": 4
 },
 "nbformat": 4,
 "nbformat_minor": 2
}
